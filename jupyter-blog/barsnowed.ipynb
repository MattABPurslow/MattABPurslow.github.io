{
 "cells": [
  {
   "cell_type": "markdown",
   "metadata": {},
   "source": [
    "# Barsnowed\n",
    "## Produce barcodes of snowy months for anywhere in the world"
   ]
  },
  {
   "cell_type": "markdown",
   "metadata": {},
   "source": [
    "### Load required packages"
   ]
  },
  {
   "cell_type": "code",
   "execution_count": 18,
   "metadata": {},
   "outputs": [],
   "source": [
    "# Display plots in notebook\n",
    "%matplotlib inline\n",
    "\n",
    "# Load data handling functions\n",
    "import numpy as np\n",
    "import xarray as xr\n",
    "\n",
    "# Load interactive functionality\n",
    "from IPython.display import display\n",
    "import ipywidgets as widgets\n",
    "from ipywidgets import interact, interact_manual\n",
    "\n",
    "# Load plotting functions\n",
    "import matplotlib.pyplot as plt\n",
    "from matplotlib.colors import Normalize, LinearSegmentedColormap\n",
    "import matplotlib.cm as cm"
   ]
  },
  {
   "cell_type": "markdown",
   "metadata": {},
   "source": [
    "### Function to convert -179.999...–180 longitude to 0–360 longitude\n",
    "ERA5 returns values on a regularly space 0.25°\\(\\times\\)0.25° grid running from -90°N (i.e. 90°S) to 90°N and from 0°E to 359.75°E. Most people in the Western hemisphere refer to their longitude in degrees West (i.e. -°E) [[citation needed](https://xkcd.com/285/)], so this function converts input in that coordinate system to the system used by the dataset."
   ]
  },
  {
   "cell_type": "code",
   "execution_count": 19,
   "metadata": {},
   "outputs": [],
   "source": [
    "def lon_conv(lon):\n",
    "    \"\"\"Convert longitudes given as -180°E to 180°E to longitudes given as 0°E to 360°E\"\"\"\n",
    "    if lon >= 0:\n",
    "        return lon\n",
    "    elif lon < 0:\n",
    "        return 360 + lon\n",
    "    else:\n",
    "        valueError(\"Invalid longitude\")\n",
    "        return None"
   ]
  },
  {
   "cell_type": "markdown",
   "metadata": {},
   "source": [
    "### Function for plotting time series as colored stripes (after Ed Hawkins' [Warming Stripes](https://showyourstripes.info))"
   ]
  },
  {
   "cell_type": "code",
   "execution_count": 20,
   "metadata": {},
   "outputs": [],
   "source": [
    "def stripe_plot(var, time, cmap, norm):\n",
    "    \"\"\"Plot time series of variable var as colored stripes.\"\"\"\n",
    "    var_norm = norm(var)\n",
    "\n",
    "    # Load figure\n",
    "    fig = plt.figure(figsize=(12,4))\n",
    "    ax = fig.gca()\n",
    "    \n",
    "    # Calculate timestep\n",
    "    step = abs(time[1]-time[0])\n",
    "    \n",
    "    # Plot bars\n",
    "    bars = [ax.fill_betweenx([0, 1], time[i], time[i] + step, facecolor = cmap(var_norm[i])) for i in range(len(time))]\n",
    "\n",
    "    # Tight, clean formatting\n",
    "    ax.set_xlim(time.min(), time.max() + step)\n",
    "    ax.set_ylim(0, 1)\n",
    "    ax.get_xaxis().set_visible(False)\n",
    "    ax.get_yaxis().set_visible(False)\n",
    "    for sp in ['top', 'bottom', 'left', 'right']:\n",
    "        ax.spines[sp].set_color('white')\n",
    "    fig.tight_layout()"
   ]
  },
  {
   "cell_type": "markdown",
   "metadata": {},
   "source": [
    "### Function for plotting monthly snow as barcode"
   ]
  },
  {
   "cell_type": "code",
   "execution_count": 21,
   "metadata": {},
   "outputs": [],
   "source": [
    "def barsnowed(snowfall, time, threshold):\n",
    "    \"\"\"Plot a binary barcode white for months with snow, green otherwise.\"\"\"\n",
    "    # Did it snow this month? True = yes, False = no\n",
    "    did_it_snow = [sf > threshold for sf in snowfall]\n",
    "    \n",
    "    # Choose colormap (green for no snow, white for snow)\n",
    "    cmap = LinearSegmentedColormap.from_list('snow', colors=['#006400','white'])\n",
    "    \n",
    "    # Normalise variable\n",
    "    norm = Normalize(vmin=0, vmax = 1) # True = 1, False = 0\n",
    "    \n",
    "    stripe_plot(did_it_snow, time, cmap, norm)"
   ]
  },
  {
   "cell_type": "markdown",
   "metadata": {},
   "source": [
    "## Main program"
   ]
  },
  {
   "cell_type": "code",
   "execution_count": 22,
   "metadata": {},
   "outputs": [],
   "source": [
    "# Define latitude and longitude to nearest 0.25°\n",
    "lat = widgets.FloatSlider(min=-90, max=90, step=0.25, description=\"Latitude (°N)\") # latitude in degrees north from the equator\n",
    "lon = widgets.FloatSlider(min=-179.75, max=180, step=0.25, description=\"Longitude (°E)\") # longitude in degrees east from the Greenwich Meridian\n",
    "display(lat,lon)"
   ]
  },
  {
   "cell_type": "code",
   "execution_count": 24,
   "metadata": {},
   "outputs": [
    {
     "data": {
      "image/png": "[encoded data removed]",
      "text/plain": [
       "<Figure size 864x288 with 1 Axes>"
      ]
     },
     "metadata": {
      "needs_background": "light"
     },
     "output_type": "display_data"
    }
   ],
   "source": [
    "# Open ERA5 snowfall grid\n",
    "ds = xr.open_dataset('era5_snowfall.nc')\n",
    "\n",
    "# Load snowfall and time for lat, lon from ERA5 monthly snowfall\n",
    "snowfall = ds.sel(latitude=lat.value, longitude=lon_conv(lon.value)).sf.values # monthly snowfall in m water equivalent\n",
    "time = np.array([float(str(t)[:4]) + (float(str(t)[5:7])-1.)/12. for t in ds.time.values])\n",
    "\n",
    "# Plot the barsnowed\n",
    "barsnowed(snowfall, time, 1e-32)"
   ]
  }
 ],
 "metadata": {
  "kernelspec": {
   "display_name": "Python 3",
   "language": "python",
   "name": "python3"
  },
  "language_info": {
   "codemirror_mode": {
    "name": "ipython",
    "version": 3
   },
   "file_extension": ".py",
   "mimetype": "text/x-python",
   "name": "python",
   "nbconvert_exporter": "python",
   "pygments_lexer": "ipython3",
   "version": "3.6.8"
  },
  "widgets": {
   "state": {
    "0c5f9a66e88d4d3f90cdd1794f5db373": {
     "views": [
      {
       "cell_index": 10
      }
     ]
    },
    "2713bd4d2f1a4ea8886a52337fd6e652": {
     "views": [
      {
       "cell_index": 8
      }
     ]
    },
    "379f3e9967744865b6ab6b9e90c9f6d0": {
     "views": [
      {
       "cell_index": 8
      }
     ]
    },
    "479c4ed178e64feeae6a96c16a0a1827": {
     "views": [
      {
       "cell_index": 8
      }
     ]
    },
    "4ac3f010c3e4414989317bc16058b03f": {
     "views": [
      {
       "cell_index": 8
      }
     ]
    },
    "5ce7478134284889b3a7fd2308143f11": {
     "views": [
      {
       "cell_index": 8
      }
     ]
    },
    "613092f778c34770ba1c73a230bf9d6f": {
     "views": [
      {
       "cell_index": 10
      }
     ]
    },
    "647b451abc4849b9956aaf3346f2b37f": {
     "views": [
      {
       "cell_index": 10
      }
     ]
    },
    "8121b685d806412391943cc9b5b22391": {
     "views": [
      {
       "cell_index": 8
      }
     ]
    },
    "8a0460fdb73a4104b13274d950259983": {
     "views": [
      {
       "cell_index": 8
      }
     ]
    },
    "942b1ddf3bb94a0a9528f50a84e63711": {
     "views": [
      {
       "cell_index": 8
      }
     ]
    },
    "a402cc959c714510bcadfee496e802b5": {
     "views": [
      {
       "cell_index": 8
      }
     ]
    },
    "c6a8c6ecd83d42d5b9a45a1ccad23ce3": {
     "views": [
      {
       "cell_index": 8
      }
     ]
    },
    "c8405df3b3db49aa824edb9ef78b38d1": {
     "views": [
      {
       "cell_index": 8
      }
     ]
    },
    "cb04197096764f6e834707a055a5d4df": {
     "views": [
      {
       "cell_index": 8
      }
     ]
    },
    "d0e7e5209e2341429f660891adde8519": {
     "views": [
      {
       "cell_index": 8
      }
     ]
    },
    "f0e55f8203d740a08723e5f0ae5cc571": {
     "views": [
      {
       "cell_index": 8
      }
     ]
    },
    "f972e139abe14ecab1c94dbde2362d97": {
     "views": [
      {
       "cell_index": 8
      }
     ]
    }
   },
   "version": "1.2.0"
  }
 },
 "nbformat": 4,
 "nbformat_minor": 2
}
